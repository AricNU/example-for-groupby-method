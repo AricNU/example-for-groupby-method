{
 "cells": [
  {
   "cell_type": "code",
   "execution_count": 1,
   "id": "f21b467b",
   "metadata": {},
   "outputs": [],
   "source": [
    "import numpy as np\n",
    "import pandas as pd"
   ]
  },
  {
   "cell_type": "code",
   "execution_count": 3,
   "id": "e24c415e",
   "metadata": {},
   "outputs": [],
   "source": [
    "# data degan lug'at yaratamiz\n",
    "data = {\n",
    "    \"BoyOrGirl\":[\n",
    "        'Boy',\n",
    "        'Boy',\n",
    "        'Boy',\n",
    "        'Girl',\n",
    "        'Boy',\n",
    "        'Girl',\n",
    "        'Boy',\n",
    "        'Boy',\n",
    "        'Girl',\n",
    "        'Girl',\n",
    "        'Boy',\n",
    "        'Boy'\n",
    "    ],\n",
    "    \"TestScore\":[27,43,33,98,90,67,37,77,70,80,90,50]\n",
    "}"
   ]
  },
  {
   "cell_type": "code",
   "execution_count": 4,
   "id": "a13a3509",
   "metadata": {},
   "outputs": [
    {
     "data": {
      "text/html": [
       "<div>\n",
       "<style scoped>\n",
       "    .dataframe tbody tr th:only-of-type {\n",
       "        vertical-align: middle;\n",
       "    }\n",
       "\n",
       "    .dataframe tbody tr th {\n",
       "        vertical-align: top;\n",
       "    }\n",
       "\n",
       "    .dataframe thead th {\n",
       "        text-align: right;\n",
       "    }\n",
       "</style>\n",
       "<table border=\"1\" class=\"dataframe\">\n",
       "  <thead>\n",
       "    <tr style=\"text-align: right;\">\n",
       "      <th></th>\n",
       "      <th>BoyOrGirl</th>\n",
       "      <th>TestScore</th>\n",
       "    </tr>\n",
       "  </thead>\n",
       "  <tbody>\n",
       "    <tr>\n",
       "      <th>0</th>\n",
       "      <td>Boy</td>\n",
       "      <td>27</td>\n",
       "    </tr>\n",
       "    <tr>\n",
       "      <th>1</th>\n",
       "      <td>Boy</td>\n",
       "      <td>43</td>\n",
       "    </tr>\n",
       "    <tr>\n",
       "      <th>2</th>\n",
       "      <td>Boy</td>\n",
       "      <td>33</td>\n",
       "    </tr>\n",
       "    <tr>\n",
       "      <th>3</th>\n",
       "      <td>Girl</td>\n",
       "      <td>98</td>\n",
       "    </tr>\n",
       "    <tr>\n",
       "      <th>4</th>\n",
       "      <td>Boy</td>\n",
       "      <td>90</td>\n",
       "    </tr>\n",
       "    <tr>\n",
       "      <th>5</th>\n",
       "      <td>Girl</td>\n",
       "      <td>67</td>\n",
       "    </tr>\n",
       "    <tr>\n",
       "      <th>6</th>\n",
       "      <td>Boy</td>\n",
       "      <td>37</td>\n",
       "    </tr>\n",
       "    <tr>\n",
       "      <th>7</th>\n",
       "      <td>Boy</td>\n",
       "      <td>77</td>\n",
       "    </tr>\n",
       "    <tr>\n",
       "      <th>8</th>\n",
       "      <td>Girl</td>\n",
       "      <td>70</td>\n",
       "    </tr>\n",
       "    <tr>\n",
       "      <th>9</th>\n",
       "      <td>Girl</td>\n",
       "      <td>80</td>\n",
       "    </tr>\n",
       "    <tr>\n",
       "      <th>10</th>\n",
       "      <td>Boy</td>\n",
       "      <td>90</td>\n",
       "    </tr>\n",
       "    <tr>\n",
       "      <th>11</th>\n",
       "      <td>Boy</td>\n",
       "      <td>50</td>\n",
       "    </tr>\n",
       "  </tbody>\n",
       "</table>\n",
       "</div>"
      ],
      "text/plain": [
       "   BoyOrGirl  TestScore\n",
       "0        Boy         27\n",
       "1        Boy         43\n",
       "2        Boy         33\n",
       "3       Girl         98\n",
       "4        Boy         90\n",
       "5       Girl         67\n",
       "6        Boy         37\n",
       "7        Boy         77\n",
       "8       Girl         70\n",
       "9       Girl         80\n",
       "10       Boy         90\n",
       "11       Boy         50"
      ]
     },
     "execution_count": 4,
     "metadata": {},
     "output_type": "execute_result"
    }
   ],
   "source": [
    "# data lug'atni DataFrame shakliga o'tkazib olamiz, \n",
    "#bunda lug'atimizdagi'BoyOrGirl' va 'TestScore' kalitlar ustun,\n",
    "# ularning qiymatlari esa, ustun elementlari bo'ladi.\n",
    "df= pd.DataFrame(data, columns = ['BoyOrGirl','TestScore'])\n",
    "df"
   ]
  },
  {
   "cell_type": "code",
   "execution_count": 8,
   "id": "4362481a",
   "metadata": {},
   "outputs": [
    {
     "data": {
      "text/plain": [
       "<pandas.core.groupby.generic.SeriesGroupBy object at 0x000001525D8B7990>"
      ]
     },
     "execution_count": 8,
     "metadata": {},
     "output_type": "execute_result"
    }
   ],
   "source": [
    "# df faylimizdagi 'TestScore' ustunini \n",
    "# 'BoyOrGirl' ustuni qiymatlari bo'yicha guruhlab olamiz.\n",
    "groupby_gender = df['TestScore'].groupby(df['BoyOrGirl'])\n",
    "groupby_gender # bu bziga qandaydir object qaytaradi."
   ]
  },
  {
   "cell_type": "code",
   "execution_count": 6,
   "id": "cd7fc423",
   "metadata": {},
   "outputs": [
    {
     "data": {
      "text/plain": [
       "2"
      ]
     },
     "execution_count": 6,
     "metadata": {},
     "output_type": "execute_result"
    }
   ],
   "source": [
    "len(list(df['TestScore'].groupby(df['BoyOrGirl'])))"
   ]
  },
  {
   "cell_type": "code",
   "execution_count": 7,
   "id": "9277d41c",
   "metadata": {},
   "outputs": [
    {
     "data": {
      "text/plain": [
       "[('Boy',\n",
       "  0     27\n",
       "  1     43\n",
       "  2     33\n",
       "  4     90\n",
       "  6     37\n",
       "  7     77\n",
       "  10    90\n",
       "  11    50\n",
       "  Name: TestScore, dtype: int64),\n",
       " ('Girl',\n",
       "  3    98\n",
       "  5    67\n",
       "  8    70\n",
       "  9    80\n",
       "  Name: TestScore, dtype: int64)]"
      ]
     },
     "execution_count": 7,
     "metadata": {},
     "output_type": "execute_result"
    }
   ],
   "source": [
    "#bizga qaytgan objectni list shaklida ko'rib olamiz\n",
    "list(df['TestScore'].groupby(df['BoyOrGirl']))\n",
    "# natijada ikkita guruh hosl bo'lganini korishimiz mumkin\n",
    "#bular: 'Boy' va 'Girl'"
   ]
  },
  {
   "cell_type": "code",
   "execution_count": 11,
   "id": "0f851968",
   "metadata": {},
   "outputs": [
    {
     "data": {
      "text/html": [
       "<div>\n",
       "<style scoped>\n",
       "    .dataframe tbody tr th:only-of-type {\n",
       "        vertical-align: middle;\n",
       "    }\n",
       "\n",
       "    .dataframe tbody tr th {\n",
       "        vertical-align: top;\n",
       "    }\n",
       "\n",
       "    .dataframe thead tr th {\n",
       "        text-align: left;\n",
       "    }\n",
       "\n",
       "    .dataframe thead tr:last-of-type th {\n",
       "        text-align: right;\n",
       "    }\n",
       "</style>\n",
       "<table border=\"1\" class=\"dataframe\">\n",
       "  <thead>\n",
       "    <tr>\n",
       "      <th></th>\n",
       "      <th colspan=\"4\" halign=\"left\">TestScore</th>\n",
       "    </tr>\n",
       "    <tr>\n",
       "      <th></th>\n",
       "      <th>sum</th>\n",
       "      <th>max</th>\n",
       "      <th>mean</th>\n",
       "      <th>&lt;lambda_0&gt;</th>\n",
       "    </tr>\n",
       "    <tr>\n",
       "      <th>BoyOrGirl</th>\n",
       "      <th></th>\n",
       "      <th></th>\n",
       "      <th></th>\n",
       "      <th></th>\n",
       "    </tr>\n",
       "  </thead>\n",
       "  <tbody>\n",
       "    <tr>\n",
       "      <th>Boy</th>\n",
       "      <td>447</td>\n",
       "      <td>90</td>\n",
       "      <td>55.875</td>\n",
       "      <td>63</td>\n",
       "    </tr>\n",
       "    <tr>\n",
       "      <th>Girl</th>\n",
       "      <td>315</td>\n",
       "      <td>98</td>\n",
       "      <td>78.750</td>\n",
       "      <td>31</td>\n",
       "    </tr>\n",
       "  </tbody>\n",
       "</table>\n",
       "</div>"
      ],
      "text/plain": [
       "          TestScore                       \n",
       "                sum max    mean <lambda_0>\n",
       "BoyOrGirl                                 \n",
       "Boy             447  90  55.875         63\n",
       "Girl            315  98  78.750         31"
      ]
     },
     "execution_count": 11,
     "metadata": {},
     "output_type": "execute_result"
    }
   ],
   "source": [
    "#'BoyOrGirl' ustun elementlarini, qayta takrorlangan bo'lsa bittasini oladi\n",
    "#\"TestScore\" ustuni elementlari bo'yicha pastda berilgan agregatga tekshirish\n",
    "#bular: yig'indisi, maximumi,o'rtachasi va maximumdan minimumining ayirmasi.\n",
    "df.groupby(['BoyOrGirl']).agg(\n",
    "    {\"TestScore\": ['sum','max','mean',lambda x: x.max() - x.min() ]}\n",
    ")"
   ]
  },
  {
   "cell_type": "code",
   "execution_count": null,
   "id": "3ee1bffa",
   "metadata": {},
   "outputs": [],
   "source": []
  },
  {
   "cell_type": "code",
   "execution_count": 13,
   "id": "eaff92a5",
   "metadata": {},
   "outputs": [
    {
     "data": {
      "text/plain": [
       "('Boy',\n",
       " 0     27\n",
       " 1     43\n",
       " 2     33\n",
       " 4     90\n",
       " 6     37\n",
       " 7     77\n",
       " 10    90\n",
       " 11    50\n",
       " Name: TestScore, dtype: int64)"
      ]
     },
     "execution_count": 13,
     "metadata": {},
     "output_type": "execute_result"
    }
   ],
   "source": [
    "#df dagi 1- guruh elementlari ko'rish.\n",
    "list(df['TestScore'].groupby(df['BoyOrGirl']))[0]"
   ]
  },
  {
   "cell_type": "code",
   "execution_count": 14,
   "id": "52b8165a",
   "metadata": {},
   "outputs": [
    {
     "data": {
      "text/plain": [
       "('Girl',\n",
       " 3    98\n",
       " 5    67\n",
       " 8    70\n",
       " 9    80\n",
       " Name: TestScore, dtype: int64)"
      ]
     },
     "execution_count": 14,
     "metadata": {},
     "output_type": "execute_result"
    }
   ],
   "source": [
    "#df dagi 2- guruh elementlari ko'rish.\n",
    "list(df['TestScore'].groupby(df['BoyOrGirl']))[1]"
   ]
  },
  {
   "cell_type": "code",
   "execution_count": 15,
   "id": "05676037",
   "metadata": {},
   "outputs": [],
   "source": [
    "dk=list(df['TestScore'].groupby(df['BoyOrGirl']))[0]"
   ]
  },
  {
   "cell_type": "code",
   "execution_count": 17,
   "id": "3c8e83f0",
   "metadata": {},
   "outputs": [
    {
     "data": {
      "text/plain": [
       "tuple"
      ]
     },
     "execution_count": 17,
     "metadata": {},
     "output_type": "execute_result"
    }
   ],
   "source": [
    "type(dk)"
   ]
  },
  {
   "cell_type": "code",
   "execution_count": 18,
   "id": "7508a251",
   "metadata": {},
   "outputs": [
    {
     "name": "stdout",
     "output_type": "stream",
     "text": [
      "      Name  Age  Gender\n",
      "0    Alice   25  Female\n",
      "1      Bob   30    Male\n",
      "2  Charlie   35    Male\n"
     ]
    }
   ],
   "source": [
    "import pandas as pd\n",
    "\n",
    "# Sample tuple object\n",
    "tuple_data = [('Alice', 25, 'Female'),\n",
    "              ('Bob', 30, 'Male'),\n",
    "              ('Charlie', 35, 'Male')]\n",
    "\n",
    "# Convert tuple to DataFrame\n",
    "df = pd.DataFrame(tuple_data, columns=['Name', 'Age', 'Gender'])\n",
    "\n",
    "# Display the DataFrame\n",
    "print(df)\n"
   ]
  },
  {
   "cell_type": "code",
   "execution_count": 22,
   "id": "6094dd44",
   "metadata": {},
   "outputs": [
    {
     "name": "stdout",
     "output_type": "stream",
     "text": [
      "Filtered Test Scores for Boys:\n",
      "0     27\n",
      "4     90\n",
      "6     37\n",
      "7     77\n",
      "11    50\n",
      "Name: TestScore, dtype: int64\n"
     ]
    }
   ],
   "source": [
    "import numpy as np\n",
    "import pandas as pd\n",
    "\n",
    "# Data dictionary\n",
    "data = {\n",
    "    \"BoyOrGirl\": [\n",
    "        'Boy', 'Boy', 'Boy', 'Girl', 'Boy', 'Girl',\n",
    "        'Boy', 'Boy', 'Girl', 'Girl', 'Boy', 'Boy'\n",
    "    ],\n",
    "    \"TestScore\": [27, 27, 27, 98, 90, 67, 37, 77, 70, 80, 90, 50]\n",
    "}\n",
    "\n",
    "# Creating DataFrame\n",
    "df = pd.DataFrame(data, columns=['BoyOrGirl', 'TestScore'])\n",
    "\n",
    "# Grouping test scores by gender\n",
    "groupby_gender = df['TestScore'].groupby(df['BoyOrGirl'])\n",
    "\n",
    "# Filtering out duplicate values within the \"Boy\" group\n",
    "filtered_group = groupby_gender.get_group('Boy').drop_duplicates()\n",
    "\n",
    "print(\"Filtered Test Scores for Boys:\")\n",
    "print(filtered_group)\n"
   ]
  },
  {
   "cell_type": "code",
   "execution_count": null,
   "id": "4cb9a29c",
   "metadata": {},
   "outputs": [],
   "source": []
  }
 ],
 "metadata": {
  "kernelspec": {
   "display_name": "Python 3 (ipykernel)",
   "language": "python",
   "name": "python3"
  },
  "language_info": {
   "codemirror_mode": {
    "name": "ipython",
    "version": 3
   },
   "file_extension": ".py",
   "mimetype": "text/x-python",
   "name": "python",
   "nbconvert_exporter": "python",
   "pygments_lexer": "ipython3",
   "version": "3.11.5"
  }
 },
 "nbformat": 4,
 "nbformat_minor": 5
}
